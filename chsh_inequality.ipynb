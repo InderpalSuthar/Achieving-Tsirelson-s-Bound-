{
 "cells": [
  {
   "cell_type": "markdown",
   "metadata": {},
   "source": [
    "### **CHSH Inequality for Maximally Entangled state(Bell State)**"
   ]
  },
  {
   "cell_type": "markdown",
   "metadata": {},
   "source": [
    "##### **Using convex optimization technique (install the necessary library for SDP- pip install cvxpy)**\n",
    "- **This will use any general werner state density matrix to maximize the trace also that should be the PSD Matrix**"
   ]
  },
  {
   "cell_type": "code",
   "execution_count": 47,
   "metadata": {},
   "outputs": [
    {
     "name": "stdout",
     "output_type": "stream",
     "text": [
      "Optimal value of the objective function: 2.8284271252760966\n",
      "Optimal Gram matrix G:\n",
      "[[1.00000000e+00 7.91864900e-15 7.29860160e-15 9.99999965e-01]\n",
      " [7.91864900e-15 1.00000000e+00 1.00000003e+00 8.72392264e-15]\n",
      " [7.29860160e-15 1.00000003e+00 1.00000000e+00 8.10387524e-15]\n",
      " [9.99999965e-01 8.72392264e-15 8.10387524e-15 1.00000000e+00]]\n"
     ]
    }
   ],
   "source": [
    "import cvxpy as cp\n",
    "import numpy as np\n",
    "\n",
    "# Define Pauli matrices \n",
    "I = np.eye(2)\n",
    "sigma_x = np.array([[0, 1], [1, 0]])\n",
    "sigma_z = np.array([[1, 0], [0, -1]])\n",
    "\n",
    "# Define the observables A1, A2, B1, B2\n",
    "A1 = sigma_x\n",
    "A2 = sigma_z\n",
    "B1 = (sigma_x + sigma_z) / np.sqrt(2)\n",
    "B2 = (sigma_x - sigma_z) / np.sqrt(2)\n",
    "\n",
    "# Define the CHSH operator\n",
    "CHSH = np.kron(A1, B1) + np.kron(A1, B2) + np.kron(A2, B1) - np.kron(A2, B2)\n",
    "\n",
    "# Define the Gram matrix G as a variable (4x4 symmetric matrix)\n",
    "G = cp.Variable((4, 4), symmetric=True)\n",
    "\n",
    "# Define the constraints: G must be positive semi-definite and have ones on the diagonal\n",
    "constraints = [G >> 0]  # G is PSD\n",
    "constraints += [G[i, i] == 1 for i in range(4)]  # Diagonal elements are 1\n",
    "\n",
    "\n",
    "# Define the objective function: maximize 1/2 * Tr(G CHSH)\n",
    "objective = cp.Maximize(0.5 * cp.trace(G @ CHSH))\n",
    "\n",
    "# Define the SDP problem\n",
    "problem = cp.Problem(objective, constraints)\n",
    "\n",
    "# Solve the SDP problem\n",
    "result = problem.solve()\n",
    "\n",
    "# Output the result\n",
    "print(\"Optimal value of the objective function:\", result)\n",
    "print(\"Optimal Gram matrix G:\")\n",
    "print(G.value)\n"
   ]
  },
  {
   "cell_type": "markdown",
   "metadata": {},
   "source": [
    "##### **Calculate CHSH value without SDP**"
   ]
  },
  {
   "cell_type": "code",
   "execution_count": 50,
   "metadata": {},
   "outputs": [
    {
     "name": "stdout",
     "output_type": "stream",
     "text": [
      "CHSH value for Bell state: 2.8284271247461894\n"
     ]
    }
   ],
   "source": [
    "import numpy as np\n",
    "\n",
    "# Define the Bell state |Φ+⟩\n",
    "phi_plus = (1 / np.sqrt(2)) * np.array([1, 0, 0, 1])  # State vector representation\n",
    "\n",
    "# Define Pauli matrices \n",
    "sigma_x = np.array([[0, 1], [1, 0]])\n",
    "sigma_z = np.array([[1, 0], [0, -1]])\n",
    "\n",
    "# Define the observables A1, A2, B1, B2\n",
    "A1 = sigma_x\n",
    "A2 = sigma_z\n",
    "B1 = (sigma_x + sigma_z) / np.sqrt(2)\n",
    "B2 = (sigma_x - sigma_z) / np.sqrt(2)\n",
    "\n",
    "# Function to calculate the expectation value <psi| (A ⊗ B) |psi>\n",
    "def expectation_value(state, A, B):\n",
    "    # Calculate the tensor product\n",
    "    operator = np.kron(A, B)\n",
    "    return np.real(np.dot(state.conj().T, np.dot(operator, state)))\n",
    "\n",
    "# Calculate expectation values for each combination\n",
    "E_A1_B1 = expectation_value(phi_plus, A1, B1)\n",
    "E_A1_B2 = expectation_value(phi_plus, A1, B2)\n",
    "E_A2_B1 = expectation_value(phi_plus, A2, B1)\n",
    "E_A2_B2 = expectation_value(phi_plus, A2, B2)\n",
    "\n",
    "# Calculate the CHSH value\n",
    "CHSH_value = E_A1_B1 + E_A1_B2 + E_A2_B1 - E_A2_B2\n",
    "print(\"CHSH value for Bell state:\", CHSH_value)"
   ]
  },
  {
   "cell_type": "markdown",
   "metadata": {},
   "source": [
    "### Any werner state density matrix correlated to bell state have CHSH value < 2*root2"
   ]
  },
  {
   "cell_type": "markdown",
   "metadata": {},
   "source": [
    "# General Werner State\n",
    "\n",
    "The Werner state is a type of mixed quantum state defined in the context of bipartite quantum systems. It is particularly significant in quantum information theory as it explores the boundaries between entangled and separable states.\n",
    "\n",
    "## Definition\n",
    "\n",
    "For a bipartite quantum system with two qubits, the general Werner state \\( \\rho_W \\) can be expressed as:\n",
    "\n",
    "\\[\n",
    "\\rho_W = p \\cdot |\\Psi^-\\rangle \\langle \\Psi^-| + (1 - p) \\cdot \\frac{I}{4}\n",
    "\\]\n",
    "\n",
    "where:\n",
    "- \\( |\\Psi^-\\rangle = \\frac{1}{\\sqrt{2}} (|01\\rangle - |10\\rangle) \\) is the Bell state.\n",
    "- \\( I \\) is the identity matrix of size \\( 4 \\times 4 \\).\n",
    "- \\( p \\) is a parameter that ranges from \\( 0 \\) to \\( 1 \\), determining the mixture of the entangled state and the completely mixed state.\n",
    "\n",
    "## Properties\n",
    "\n",
    "- **Entanglement**: The Werner state is entangled for \\( p > \\frac{1}{3} \\) and becomes separable for \\( p \\leq \\frac{1}{3} \\).\n",
    "- **CHSH Inequality**: The CHSH inequality can be violated for values of \\( p \\) corresponding to entangled Werner states.\n",
    "- **Applications**: Werner states are used to study quantum non-locality, quantum teleportation, and quantum key distribution.\n",
    "\n",
    "## Example\n",
    "\n",
    "For \\( p = 1 \\), the Werner state reduces to the maximally entangled state \\( |\\Psi^-\\rangle \\). For \\( p = 0 \\), it corresponds to the completely mixed state.\n",
    "\n",
    "### Summary\n",
    "\n",
    "The general Werner state provides a useful framework for understanding the transition between entangled and separable states in quantum mechanics, serving as a key concept in the study of quantum entanglement and its applications in quantum information science.\n"
   ]
  },
  {
   "cell_type": "code",
   "execution_count": 51,
   "metadata": {},
   "outputs": [
    {
     "name": "stdout",
     "output_type": "stream",
     "text": [
      "Optimal value of the objective function: 2.121320355338266\n",
      "Optimal Gram matrix G:\n",
      "[[ 1.00000000e+00  1.65260510e-16  2.17560738e-16  5.00000000e-01]\n",
      " [ 1.65260510e-16  1.00000000e+00  1.00000001e+00 -1.21806228e-14]\n",
      " [ 2.17560738e-16  1.00000001e+00  1.00000000e+00 -1.20813856e-14]\n",
      " [ 5.00000000e-01 -1.21806228e-14 -1.20813856e-14  1.00000000e+00]]\n"
     ]
    }
   ],
   "source": [
    "import cvxpy as cp\n",
    "import numpy as np\n",
    "\n",
    "# Define Pauli matrices \n",
    "I = np.eye(2)\n",
    "sigma_x = np.array([[0, 1], [1, 0]])\n",
    "sigma_z = np.array([[1, 0], [0, -1]])\n",
    "\n",
    "# Define the observables A1, A2, B1, B2\n",
    "A1 = sigma_x\n",
    "A2 = sigma_z\n",
    "B1 = (sigma_x + sigma_z) / np.sqrt(2)\n",
    "B2 = (sigma_x - sigma_z) / np.sqrt(2)\n",
    "\n",
    "# Define the CHSH operator\n",
    "CHSH = np.kron(A1, B1) + np.kron(A1, B2) + np.kron(A2, B1) - np.kron(A2, B2)\n",
    "\n",
    "# Define the Gram matrix G as a variable (4x4 symmetric matrix)\n",
    "G = cp.Variable((4, 4), symmetric=True)\n",
    "\n",
    "# Define the constraints: G must be positive semi-definite and have ones on the diagonal\n",
    "constraints = [G >> 0]  # G is PSD\n",
    "constraints += [G[i, i] == 1 for i in range(4)]  # Diagonal elements are 1\n",
    "\n",
    "# Optionally, add a constraint that G should be related to the Bell state density\n",
    "# For example, require that the off-diagonal elements reflect the Bell state's correlations\n",
    "constraints += [G[0, 3] == 1/2]  # Example correlation for |Φ+⟩, adjust as needed\n",
    "\n",
    "# Define the objective function: maximize 1/2 * Tr(G CHSH)\n",
    "objective = cp.Maximize(0.5 * cp.trace(G @ CHSH))\n",
    "\n",
    "# Define the SDP problem\n",
    "problem = cp.Problem(objective, constraints)\n",
    "\n",
    "# Solve the SDP problem\n",
    "result = problem.solve()\n",
    "\n",
    "# Output the result\n",
    "print(\"Optimal value of the objective function:\", result)\n",
    "print(\"Optimal Gram matrix G:\")\n",
    "print(G.value)\n"
   ]
  },
  {
   "cell_type": "code",
   "execution_count": 20,
   "metadata": {},
   "outputs": [
    {
     "name": "stdout",
     "output_type": "stream",
     "text": [
      "Werner State Density Matrix (p=1):\n",
      "[[0.5 0.  0.  0.5]\n",
      " [0.  0.  0.  0. ]\n",
      " [0.  0.  0.  0. ]\n",
      " [0.5 0.  0.  0.5]]\n",
      "\n",
      "CHSH Value for Werner State (p=1):\n",
      "2.8284271247461894\n"
     ]
    }
   ],
   "source": [
    "import numpy as np\n",
    "\n",
    "# Define Pauli matrices and the identity matrix\n",
    "I = np.eye(2)\n",
    "sigma_x = np.array([[0, 1], [1, 0]])\n",
    "sigma_z = np.array([[1, 0], [0, -1]])\n",
    "\n",
    "# Define the Bell state |Φ+⟩\n",
    "phi_plus_flat = np.array([1, 0, 0, 1]) / np.sqrt(2)\n",
    "\n",
    "# Define the CHSH operator\n",
    "def chsh_operator():\n",
    "    A1 = sigma_x\n",
    "    A2 = sigma_z\n",
    "    B1 = (sigma_x + sigma_z) / np.sqrt(2)\n",
    "    B2 = (sigma_x - sigma_z) / np.sqrt(2)\n",
    "\n",
    "    CHSH = np.kron(A1, B1) + np.kron(A1, B2) + np.kron(A2, B1) - np.kron(A2, B2)\n",
    "    return CHSH\n",
    "\n",
    "# Define the Werner state\n",
    "def werner_state(p):\n",
    "    I_4 = np.kron(I, I)\n",
    "    rho_W = (1 - p) * I_4 / 4 + p * np.outer(phi_plus_flat, phi_plus_flat)\n",
    "    return rho_W\n",
    "\n",
    "# Calculate CHSH value for a Werner state\n",
    "def chsh_value(state, CHSH):\n",
    "    return np.trace(np.dot(state, CHSH)).real\n",
    "\n",
    "# Parameters\n",
    "p = 1\n",
    "rho_W = werner_state(p)\n",
    "CHSH = chsh_operator()\n",
    "\n",
    "# Calculate CHSH value for Werner state\n",
    "chsh_val = chsh_value(rho_W, CHSH)\n",
    "\n",
    "# Print results\n",
    "print(\"Werner State Density Matrix (p=1):\")\n",
    "print(rho_W)\n",
    "print(\"\\nCHSH Value for Werner State (p=1):\")\n",
    "print(chsh_val)\n"
   ]
  },
  {
   "cell_type": "code",
   "execution_count": null,
   "metadata": {},
   "outputs": [],
   "source": [
    "import cvxpy as cp\n",
    "import numpy as np\n",
    "from qutip import sigmax,sigmaz\n",
    "\n",
    "# Define Pauli matrices \n",
    "I = np.eye(2)\n",
    "sigma_x = np.array([[0, 1], [1, 0]])\n",
    "sigma_z = np.array([[1, 0], [0, -1]])\n",
    "\n",
    "# Define the observables A1, A2, B1, B2\n",
    "A1 = sigmax()\n",
    "A2 = sigmaz()\n",
    "B1 = (sigmax() + sigmaz()) / np.sqrt(2)\n",
    "B2 = (sigmax() - sigmaz()) / np.sqrt(2)\n",
    "\n",
    "# Define the CHSH operator\n",
    "CHSH = cp.Constant(np.kron(A1, B1) + np.kron(A1, B2) + np.kron(A2, B1) - np.kron(A2, B2))\n",
    "\n",
    "# Define the Gram matrix G as a variable (4x4 symmetric matrix)\n",
    "G = cp.Variable((4, 4), symmetric=True)\n",
    "\n",
    "# Define the constraints: G must be positive semi-definite and have ones on the diagonal\n",
    "constraints = [G >> 0]  # G is PSD\n",
    "constraints += [G[i, i] == 1 for i in range(4)]  # Diagonal elements are 1\n",
    "\n",
    "# Define the objective function: maximize 1/2 * Tr(G CHSH)\n",
    "objective = cp.Maximize(0.5 * cp.trace(G @ CHSH))\n",
    "\n",
    "# Define the SDP problem\n",
    "problem = cp.Problem(objective, constraints)\n",
    "\n",
    "# Solve the SDP problem\n",
    "result = problem.solve()\n",
    "\n",
    "# Output the result\n",
    "print(\"Optimal value of the objective function:\", result)\n",
    "print(\"Optimal Gram matrix G:\")\n",
    "print(G.value)\n"
   ]
  }
 ],
 "metadata": {
  "kernelspec": {
   "display_name": "base",
   "language": "python",
   "name": "python3"
  },
  "language_info": {
   "codemirror_mode": {
    "name": "ipython",
    "version": 3
   },
   "file_extension": ".py",
   "mimetype": "text/x-python",
   "name": "python",
   "nbconvert_exporter": "python",
   "pygments_lexer": "ipython3",
   "version": "3.12.4"
  }
 },
 "nbformat": 4,
 "nbformat_minor": 2
}
